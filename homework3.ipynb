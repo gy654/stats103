{
 "cells": [
  {
   "cell_type": "markdown",
   "metadata": {},
   "source": [
    "# Assignment3"
   ]
  },
  {
   "cell_type": "markdown",
   "metadata": {},
   "source": [
    "1. Perfect Relationship - Zero Correlation \n",
    "\n",
    "- Consider the quadratic relationship:\n",
    "\n",
    "i xi yi\n",
    "\n",
    "1 −2 4\n",
    "\n",
    "2 −1 1\n",
    "\n",
    "3 0 0\n",
    "\n",
    "4 1 1\n",
    "\n",
    "5 2 4\n",
    "\n",
    "a. Produce a graph of this data set;\n",
    "\n",
    "b. Calculate the correlation coefficient and chack that it is equal to zero."
   ]
  },
  {
   "cell_type": "code",
   "execution_count": 1,
   "metadata": {},
   "outputs": [],
   "source": [
    "import numpy as np\n",
    "import matplotlib.pyplot as plt\n",
    "%matplotlib inline"
   ]
  },
  {
   "cell_type": "markdown",
   "metadata": {},
   "source": [
    "a."
   ]
  },
  {
   "cell_type": "code",
   "execution_count": 3,
   "metadata": {},
   "outputs": [
    {
     "data": {
      "image/png": "[encoded data removed]",
      "text/plain": [
       "<Figure size 432x288 with 1 Axes>"
      ]
     },
     "metadata": {
      "needs_background": "light"
     },
     "output_type": "display_data"
    }
   ],
   "source": [
    "x = np.array([-2,-1,0,1,2])\n",
    "y = x**2\n",
    "plt.scatter(x,y)\n",
    "plt.xlabel('x')\n",
    "plt.ylabel('y')\n",
    "plt.title = 'graph of this data set'\n",
    "plt.show()"
   ]
  },
  {
   "cell_type": "markdown",
   "metadata": {},
   "source": [
    "b."
   ]
  },
  {
   "cell_type": "code",
   "execution_count": 4,
   "metadata": {},
   "outputs": [
    {
     "name": "stdout",
     "output_type": "stream",
     "text": [
      "The correlation coefficient is: 0.0\n",
      "It is equal to zero\n"
     ]
    }
   ],
   "source": [
    "r = np.corrcoef(x, y)[0][1]\n",
    "print('The correlation coefficient is: {}'.format(r))\n",
    "print('It is equal to zero')"
   ]
  },
  {
   "cell_type": "markdown",
   "metadata": {},
   "source": [
    "2. Weighted Sums Show that the estimate $\\hat{\\beta_1}$ is a weighted sum of the observed response $y_i$, ie, that \n",
    "\n",
    "$$\\hat{\\beta_1} = \\sum_{i=1}^{n}\\omega_iy_i$$\n",
    "Hint: Consider the weights\n",
    "$$\\omega_i = \\frac{x_i-\\bar{x}}{SS_{xx}}$$\n",
    "and note that\n",
    "$$\\sum_{i=1}^{n}\\omega_i = 0$$"
   ]
  },
  {
   "cell_type": "markdown",
   "metadata": {},
   "source": [
    "***\n",
    "$$\\hat{\\beta_1}= \\frac{Cov(X, Y)}{Var(X)} = \\frac{\\sum_{i=1}^{n}(x_i-\\bar{x})(y_i-\\bar{y})}{\\sum_{i=1}^{n}(x_i-\\bar{x})^2}=\\frac{\\sum_{i=1}^{n}(x_i-\\bar{x})y_i -\\sum_{i=1}^{n}(x_i-\\bar{x})\\bar{y}}{\\sum_{i=1}^{n}(x_i-\\bar{x})^2}$$\n",
    "$$= \\frac{\\sum_{i=1}^{n}(x_i-\\bar{x})y_i}{\\sum_{i=1}^{n}(x_i-\\bar{x})^2} - \\frac{\\sum_{i=1}^{n}(x_i-\\bar{x})\\bar{y}}{\\sum_{i=1}^{n}(x_i-\\bar{x})^2} =\\frac{\\sum_{i=1}^{n}(x_i-\\bar{x})y_i}{\\sum_{i=1}^{n}(x_i-\\bar{x})^2}- \\bar{y}\\sum_{i=1}^{n}\\omega_i $$\n",
    "$$= \\frac{\\sum_{i=1}^{n}(x_i-\\bar{x})y_i}{\\sum_{i=1}^{n}(x_i-\\bar{x})^2}- 0 = \\sum_{i=1}^{n}\\frac{(x_i-\\bar{x})y_i}{\\sum_{i=1}^{n}(x_i-\\bar{x})^2} = \\sum_{i = 1}^{n}\\omega_iy_i $$\n",
    "\n",
    "so the estimate $\\hat{\\beta_1}$ is a weighted sum of the observed response $y_i$"
   ]
  },
  {
   "cell_type": "markdown",
   "metadata": {},
   "source": [
    "3. Simple Linear Regression Model - The file thuesen contains the blood glucose and short velocity measurements\n",
    "for 25 patients (note that the short velocity data for patient 17 is missing).\n",
    "\n",
    "a. Fit a simple linear regression model to the data (use short velocity as the response);\n",
    "\n",
    "b. Test the hypothesis that $\\beta_1$ = 0;\n",
    "\n",
    "c. Calculate the model’s $R^2$;\n",
    "\n",
    "d. Examine the residuals. Do you have confidence the linear regression model’s assumptions hold?"
   ]
  },
  {
   "cell_type": "markdown",
   "metadata": {},
   "source": [
    "a. "
   ]
  },
  {
   "cell_type": "code",
   "execution_count": 2,
   "metadata": {},
   "outputs": [
    {
     "name": "stdout",
     "output_type": "stream",
     "text": [
      "y = 0.021962522259996755x+1.0978148777723817\n"
     ]
    }
   ],
   "source": [
    "thuesen = np.genfromtxt('thuesen.csv', delimiter = ',')\n",
    "x = thuesen[1:, 0]\n",
    "y = thuesen[1:, 1]\n",
    "x = np.delete(x, 15)\n",
    "y = np.delete(y, 15)\n",
    "\n",
    "beta_1_hat = np.corrcoef(x, y)[0][1] * (np.std(y)/np.std(x))\n",
    "beta_0_hat = np.mean(y) - beta_1_hat * np.mean(x)\n",
    "print('y = {}x+{}'.format(beta_1_hat, beta_0_hat))"
   ]
  },
  {
   "cell_type": "code",
   "execution_count": 3,
   "metadata": {},
   "outputs": [],
   "source": [
    "def linear_regression_model(x):\n",
    "    y = beta_0_hat + x * beta_1_hat\n",
    "    return y"
   ]
  },
  {
   "cell_type": "markdown",
   "metadata": {},
   "source": [
    "b. "
   ]
  },
  {
   "cell_type": "markdown",
   "metadata": {},
   "source": [
    "$$t = \\frac{\\hat{\\beta_1}-\\beta_1}{se(\\hat{\\beta_1})} = \\frac{\\hat{\\beta_1}-\\beta_1}{( \\frac{\\sqrt {MSE}}{\\sqrt{\\sum(x_i-\\bar{x})^2}})}$$"
   ]
  },
  {
   "cell_type": "code",
   "execution_count": 11,
   "metadata": {},
   "outputs": [],
   "source": [
    "y_pred = linear_regression_model(x)\n",
    "beta1 = 0\n",
    "denominator = 0.0105 # se(beta_1_hat)\n",
    "t = (beta_1_hat - beta1)/denominator"
   ]
  },
  {
   "cell_type": "code",
   "execution_count": 15,
   "metadata": {},
   "outputs": [
    {
     "name": "stdout",
     "output_type": "stream",
     "text": [
      "t = :  2.0916687866663577\n"
     ]
    }
   ],
   "source": [
    "print(\"t = : \", t)"
   ]
  },
  {
   "cell_type": "code",
   "execution_count": 16,
   "metadata": {},
   "outputs": [
    {
     "name": "stdout",
     "output_type": "stream",
     "text": [
      "reject H0\n"
     ]
    }
   ],
   "source": [
    "from scipy import stats\n",
    "crit = 2.0739  # p = 0.05/2, df=22\n",
    "if t>crit:\n",
    "    print('reject H0')\n",
    "else:\n",
    "    print('do not reject H0')"
   ]
  },
  {
   "cell_type": "markdown",
   "metadata": {},
   "source": [
    "c. "
   ]
  },
  {
   "cell_type": "code",
   "execution_count": 9,
   "metadata": {},
   "outputs": [
    {
     "name": "stdout",
     "output_type": "stream",
     "text": [
      "R2:  0.17368439567153518\n"
     ]
    }
   ],
   "source": [
    "SSR = np.sum(np.square(y_pred-np.mean(y)))\n",
    "SST = np.sum(np.square(y-np.mean(y)))\n",
    "R2 = SSR/SST\n",
    "print('R2: ',R2)"
   ]
  },
  {
   "cell_type": "markdown",
   "metadata": {},
   "source": [
    "d. "
   ]
  },
  {
   "cell_type": "code",
   "execution_count": 18,
   "metadata": {
    "scrolled": true
   },
   "outputs": [
    {
     "data": {
      "image/png": "[encoded data removed]",
      "text/plain": [
       "<Figure size 432x288 with 1 Axes>"
      ]
     },
     "metadata": {
      "needs_background": "light"
     },
     "output_type": "display_data"
    }
   ],
   "source": [
    "residuals = y-y_pred\n",
    "plt.scatter(x,y)\n",
    "a = np.linspace(0,20,200)\n",
    "plt.plot(a, linear_regression_model(a))\n",
    "plt.show()"
   ]
  },
  {
   "cell_type": "code",
   "execution_count": 19,
   "metadata": {},
   "outputs": [
    {
     "data": {
      "text/plain": [
       "Text(0, 0.5, 'residuals')"
      ]
     },
     "execution_count": 19,
     "metadata": {},
     "output_type": "execute_result"
    },
    {
     "data": {
      "image/png": "[encoded data removed]",
      "text/plain": [
       "<Figure size 432x288 with 1 Axes>"
      ]
     },
     "metadata": {
      "needs_background": "light"
     },
     "output_type": "display_data"
    }
   ],
   "source": [
    "plt.scatter(x, residuals)\n",
    "plt.xlabel(\"blood glucose\")\n",
    "plt.ylabel('residuals')"
   ]
  },
  {
   "cell_type": "markdown",
   "metadata": {},
   "source": [
    "The residual is large and does not satisfy homoscedasticity. therefore, I do not have confidence that the linear regression assumption model holds."
   ]
  }
 ],
 "metadata": {
  "kernelspec": {
   "display_name": "Python 3",
   "language": "python",
   "name": "python3"
  },
  "language_info": {
   "codemirror_mode": {
    "name": "ipython",
    "version": 3
   },
   "file_extension": ".py",
   "mimetype": "text/x-python",
   "name": "python",
   "nbconvert_exporter": "python",
   "pygments_lexer": "ipython3",
   "version": "3.8.5"
  }
 },
 "nbformat": 4,
 "nbformat_minor": 4
}
