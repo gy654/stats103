{
 "cells": [
  {
   "cell_type": "markdown",
   "metadata": {},
   "source": [
    "# Homework4"
   ]
  },
  {
   "cell_type": "markdown",
   "metadata": {},
   "source": [
    "1. Using the sat data set, fit a model with the total SAT score as the response and expend, salary, ratio and takers as predictors. Perform regression diagnostics on this model to answer the questions below. Display any plots that are relevant but do not provide plots about which you have nothing to say. Suggest possible improvements or corrections where appropriate.\n"
   ]
  },
  {
   "cell_type": "markdown",
   "metadata": {},
   "source": [
    "a. Check the constant variance assumption for the errors;"
   ]
  },
  {
   "cell_type": "code",
   "execution_count": 1,
   "metadata": {},
   "outputs": [],
   "source": [
    "import pandas as pd\n",
    "from sklearn import linear_model\n",
    "import scipy.stats as stats\n",
    "import matplotlib.pyplot as plt\n",
    "import statsmodels.api as sm\n",
    "from statsmodels.stats.outliers_influence import OLSInfluence as influence\n",
    "import numpy as np"
   ]
  },
  {
   "cell_type": "code",
   "execution_count": 2,
   "metadata": {},
   "outputs": [],
   "source": [
    "sat = pd.read_csv('sat.csv')\n",
    "X = sat[['expend', 'salary','ratio','takers']]\n",
    "y = sat['total']"
   ]
  },
  {
   "cell_type": "code",
   "execution_count": 3,
   "metadata": {
    "scrolled": true
   },
   "outputs": [
    {
     "data": {
      "text/html": [
       "<table class=\"simpletable\">\n",
       "<caption>OLS Regression Results</caption>\n",
       "<tr>\n",
       "  <th>Dep. Variable:</th>          <td>total</td>      <th>  R-squared:         </th> <td>   0.825</td>\n",
       "</tr>\n",
       "<tr>\n",
       "  <th>Model:</th>                   <td>OLS</td>       <th>  Adj. R-squared:    </th> <td>   0.809</td>\n",
       "</tr>\n",
       "<tr>\n",
       "  <th>Method:</th>             <td>Least Squares</td>  <th>  F-statistic:       </th> <td>   52.88</td>\n",
       "</tr>\n",
       "<tr>\n",
       "  <th>Date:</th>             <td>Fri, 06 May 2022</td> <th>  Prob (F-statistic):</th> <td>1.92e-16</td>\n",
       "</tr>\n",
       "<tr>\n",
       "  <th>Time:</th>                 <td>09:28:06</td>     <th>  Log-Likelihood:    </th> <td> -242.68</td>\n",
       "</tr>\n",
       "<tr>\n",
       "  <th>No. Observations:</th>      <td>    50</td>      <th>  AIC:               </th> <td>   495.4</td>\n",
       "</tr>\n",
       "<tr>\n",
       "  <th>Df Residuals:</th>          <td>    45</td>      <th>  BIC:               </th> <td>   504.9</td>\n",
       "</tr>\n",
       "<tr>\n",
       "  <th>Df Model:</th>              <td>     4</td>      <th>                     </th>     <td> </td>   \n",
       "</tr>\n",
       "<tr>\n",
       "  <th>Covariance Type:</th>      <td>nonrobust</td>    <th>                     </th>     <td> </td>   \n",
       "</tr>\n",
       "</table>\n",
       "<table class=\"simpletable\">\n",
       "<tr>\n",
       "     <td></td>       <th>coef</th>     <th>std err</th>      <th>t</th>      <th>P>|t|</th>  <th>[0.025</th>    <th>0.975]</th>  \n",
       "</tr>\n",
       "<tr>\n",
       "  <th>const</th>  <td> 1045.9715</td> <td>   52.870</td> <td>   19.784</td> <td> 0.000</td> <td>  939.486</td> <td> 1152.457</td>\n",
       "</tr>\n",
       "<tr>\n",
       "  <th>expend</th> <td>    4.4626</td> <td>   10.547</td> <td>    0.423</td> <td> 0.674</td> <td>  -16.779</td> <td>   25.704</td>\n",
       "</tr>\n",
       "<tr>\n",
       "  <th>salary</th> <td>    1.6379</td> <td>    2.387</td> <td>    0.686</td> <td> 0.496</td> <td>   -3.170</td> <td>    6.446</td>\n",
       "</tr>\n",
       "<tr>\n",
       "  <th>ratio</th>  <td>   -3.6242</td> <td>    3.215</td> <td>   -1.127</td> <td> 0.266</td> <td>  -10.100</td> <td>    2.852</td>\n",
       "</tr>\n",
       "<tr>\n",
       "  <th>takers</th> <td>   -2.9045</td> <td>    0.231</td> <td>  -12.559</td> <td> 0.000</td> <td>   -3.370</td> <td>   -2.439</td>\n",
       "</tr>\n",
       "</table>\n",
       "<table class=\"simpletable\">\n",
       "<tr>\n",
       "  <th>Omnibus:</th>       <td> 1.325</td> <th>  Durbin-Watson:     </th> <td>   2.452</td>\n",
       "</tr>\n",
       "<tr>\n",
       "  <th>Prob(Omnibus):</th> <td> 0.516</td> <th>  Jarque-Bera (JB):  </th> <td>   0.572</td>\n",
       "</tr>\n",
       "<tr>\n",
       "  <th>Skew:</th>          <td>-0.014</td> <th>  Prob(JB):          </th> <td>   0.751</td>\n",
       "</tr>\n",
       "<tr>\n",
       "  <th>Kurtosis:</th>      <td> 3.523</td> <th>  Cond. No.          </th> <td>    654.</td>\n",
       "</tr>\n",
       "</table><br/><br/>Notes:<br/>[1] Standard Errors assume that the covariance matrix of the errors is correctly specified."
      ],
      "text/plain": [
       "<class 'statsmodels.iolib.summary.Summary'>\n",
       "\"\"\"\n",
       "                            OLS Regression Results                            \n",
       "==============================================================================\n",
       "Dep. Variable:                  total   R-squared:                       0.825\n",
       "Model:                            OLS   Adj. R-squared:                  0.809\n",
       "Method:                 Least Squares   F-statistic:                     52.88\n",
       "Date:                Fri, 06 May 2022   Prob (F-statistic):           1.92e-16\n",
       "Time:                        09:28:06   Log-Likelihood:                -242.68\n",
       "No. Observations:                  50   AIC:                             495.4\n",
       "Df Residuals:                      45   BIC:                             504.9\n",
       "Df Model:                           4                                         \n",
       "Covariance Type:            nonrobust                                         \n",
       "==============================================================================\n",
       "                 coef    std err          t      P>|t|      [0.025      0.975]\n",
       "------------------------------------------------------------------------------\n",
       "const       1045.9715     52.870     19.784      0.000     939.486    1152.457\n",
       "expend         4.4626     10.547      0.423      0.674     -16.779      25.704\n",
       "salary         1.6379      2.387      0.686      0.496      -3.170       6.446\n",
       "ratio         -3.6242      3.215     -1.127      0.266     -10.100       2.852\n",
       "takers        -2.9045      0.231    -12.559      0.000      -3.370      -2.439\n",
       "==============================================================================\n",
       "Omnibus:                        1.325   Durbin-Watson:                   2.452\n",
       "Prob(Omnibus):                  0.516   Jarque-Bera (JB):                0.572\n",
       "Skew:                          -0.014   Prob(JB):                        0.751\n",
       "Kurtosis:                       3.523   Cond. No.                         654.\n",
       "==============================================================================\n",
       "\n",
       "Notes:\n",
       "[1] Standard Errors assume that the covariance matrix of the errors is correctly specified.\n",
       "\"\"\""
      ]
     },
     "execution_count": 3,
     "metadata": {},
     "output_type": "execute_result"
    }
   ],
   "source": [
    "X_c = sm.add_constant(X)\n",
    "model = sm.OLS(y, X_c).fit()\n",
    "y_pred = model.predict(X_c)\n",
    "model.summary()\n",
    "\n",
    "\n",
    "\n",
    "\n",
    "\n",
    "\n",
    "\n",
    "\n",
    "\n",
    "\n",
    "\n",
    "\n"
   ]
  },
  {
   "cell_type": "code",
   "execution_count": 4,
   "metadata": {},
   "outputs": [
    {
     "data": {
      "text/plain": [
       "<matplotlib.collections.PathCollection at 0x7fbf42320b80>"
      ]
     },
     "execution_count": 4,
     "metadata": {},
     "output_type": "execute_result"
    },
    {
     "data": {
      "image/png": "[encoded data removed]",
      "text/plain": [
       "<Figure size 432x288 with 1 Axes>"
      ]
     },
     "metadata": {
      "needs_background": "light"
     },
     "output_type": "display_data"
    }
   ],
   "source": [
    "error = (y-y_pred).to_numpy()\n",
    "\n",
    "plt.scatter(y_pred,error)"
   ]
  },
  {
   "cell_type": "markdown",
   "metadata": {},
   "source": [
    "the constant variance assumption for the errors is not met since the residual plot is a curve. The mean of the residual is not 0. Residuals are positive or negative depending on the value of x."
   ]
  },
  {
   "cell_type": "markdown",
   "metadata": {},
   "source": [
    "b. Check the normality assumption;"
   ]
  },
  {
   "cell_type": "code",
   "execution_count": 6,
   "metadata": {
    "scrolled": true
   },
   "outputs": [
    {
     "data": {
      "image/png": "[encoded data removed]",
      "text/plain": [
       "<Figure size 432x288 with 1 Axes>"
      ]
     },
     "metadata": {
      "needs_background": "light"
     },
     "output_type": "display_data"
    }
   ],
   "source": [
    "stats.probplot(error, dist=\"norm\", plot=plt)\n",
    "plt.show()"
   ]
  },
  {
   "cell_type": "markdown",
   "metadata": {},
   "source": [
    "The approximately straight line verifies the normality for the errors."
   ]
  },
  {
   "cell_type": "markdown",
   "metadata": {},
   "source": [
    "c. Check for large leverage points;"
   ]
  },
  {
   "cell_type": "code",
   "execution_count": 7,
   "metadata": {
    "scrolled": true
   },
   "outputs": [
    {
     "data": {
      "text/html": [
       "<div>\n",
       "<style scoped>\n",
       "    .dataframe tbody tr th:only-of-type {\n",
       "        vertical-align: middle;\n",
       "    }\n",
       "\n",
       "    .dataframe tbody tr th {\n",
       "        vertical-align: top;\n",
       "    }\n",
       "\n",
       "    .dataframe thead th {\n",
       "        text-align: right;\n",
       "    }\n",
       "</style>\n",
       "<table border=\"1\" class=\"dataframe\">\n",
       "  <thead>\n",
       "    <tr style=\"text-align: right;\">\n",
       "      <th></th>\n",
       "      <th>Unnamed: 0</th>\n",
       "      <th>expend</th>\n",
       "      <th>ratio</th>\n",
       "      <th>salary</th>\n",
       "      <th>takers</th>\n",
       "      <th>verbal</th>\n",
       "      <th>math</th>\n",
       "      <th>total</th>\n",
       "    </tr>\n",
       "  </thead>\n",
       "  <tbody>\n",
       "    <tr>\n",
       "      <th>4</th>\n",
       "      <td>California</td>\n",
       "      <td>4.992</td>\n",
       "      <td>24.0</td>\n",
       "      <td>41.078</td>\n",
       "      <td>45</td>\n",
       "      <td>417</td>\n",
       "      <td>485</td>\n",
       "      <td>902</td>\n",
       "    </tr>\n",
       "    <tr>\n",
       "      <th>6</th>\n",
       "      <td>Connecticut</td>\n",
       "      <td>8.817</td>\n",
       "      <td>14.4</td>\n",
       "      <td>50.045</td>\n",
       "      <td>81</td>\n",
       "      <td>431</td>\n",
       "      <td>477</td>\n",
       "      <td>908</td>\n",
       "    </tr>\n",
       "    <tr>\n",
       "      <th>29</th>\n",
       "      <td>New Jersey</td>\n",
       "      <td>9.774</td>\n",
       "      <td>13.8</td>\n",
       "      <td>46.087</td>\n",
       "      <td>70</td>\n",
       "      <td>420</td>\n",
       "      <td>478</td>\n",
       "      <td>898</td>\n",
       "    </tr>\n",
       "    <tr>\n",
       "      <th>43</th>\n",
       "      <td>Utah</td>\n",
       "      <td>3.656</td>\n",
       "      <td>24.3</td>\n",
       "      <td>29.082</td>\n",
       "      <td>4</td>\n",
       "      <td>513</td>\n",
       "      <td>563</td>\n",
       "      <td>1076</td>\n",
       "    </tr>\n",
       "  </tbody>\n",
       "</table>\n",
       "</div>"
      ],
      "text/plain": [
       "     Unnamed: 0  expend  ratio  salary  takers  verbal  math  total\n",
       "4    California   4.992   24.0  41.078      45     417   485    902\n",
       "6   Connecticut   8.817   14.4  50.045      81     431   477    908\n",
       "29   New Jersey   9.774   13.8  46.087      70     420   478    898\n",
       "43         Utah   3.656   24.3  29.082       4     513   563   1076"
      ]
     },
     "execution_count": 7,
     "metadata": {},
     "output_type": "execute_result"
    }
   ],
   "source": [
    "influence = model.get_influence()\n",
    "leverage = influence.hat_matrix_diag\n",
    "#point with high leverage = (2k+2)/n = 10/50= 0.2\n",
    "high_leverage = sat[abs(leverage) > 0.2]\n",
    "high_leverage"
   ]
  },
  {
   "cell_type": "markdown",
   "metadata": {},
   "source": [
    "leverages of the states"
   ]
  },
  {
   "cell_type": "code",
   "execution_count": 8,
   "metadata": {},
   "outputs": [
    {
     "data": {
      "text/plain": [
       "array([0.09537668, 0.18030612, 0.04931612, 0.05382878, 0.28211791,\n",
       "       0.03014533, 0.22545191, 0.05823786, 0.14068586, 0.09418039,\n",
       "       0.05164378, 0.05847998, 0.1348354 , 0.05031937, 0.05882595,\n",
       "       0.10383439, 0.0410646 , 0.08754545, 0.139736  , 0.05372121,\n",
       "       0.08871286, 0.16536832, 0.06069775, 0.06245712, 0.05589831,\n",
       "       0.12118024, 0.07953981, 0.04539029, 0.0828354 , 0.22209778,\n",
       "       0.0453355 , 0.1915752 , 0.09063656, 0.08104629, 0.04477728,\n",
       "       0.05949338, 0.09828873, 0.12277229, 0.06739042, 0.0967159 ,\n",
       "       0.09658262, 0.09162128, 0.05405622, 0.2921128 , 0.08566501,\n",
       "       0.15230581, 0.10816994, 0.06206536, 0.09807708, 0.08748135])"
      ]
     },
     "execution_count": 8,
     "metadata": {},
     "output_type": "execute_result"
    }
   ],
   "source": [
    "leverage"
   ]
  },
  {
   "cell_type": "markdown",
   "metadata": {},
   "source": [
    "d. Check for outliers;"
   ]
  },
  {
   "cell_type": "markdown",
   "metadata": {},
   "source": [
    "the outliers has predictor values that is three standard deviations away from the average residual. "
   ]
  },
  {
   "cell_type": "code",
   "execution_count": 9,
   "metadata": {},
   "outputs": [
    {
     "data": {
      "text/html": [
       "<div>\n",
       "<style scoped>\n",
       "    .dataframe tbody tr th:only-of-type {\n",
       "        vertical-align: middle;\n",
       "    }\n",
       "\n",
       "    .dataframe tbody tr th {\n",
       "        vertical-align: top;\n",
       "    }\n",
       "\n",
       "    .dataframe thead th {\n",
       "        text-align: right;\n",
       "    }\n",
       "</style>\n",
       "<table border=\"1\" class=\"dataframe\">\n",
       "  <thead>\n",
       "    <tr style=\"text-align: right;\">\n",
       "      <th></th>\n",
       "      <th>Unnamed: 0</th>\n",
       "      <th>expend</th>\n",
       "      <th>ratio</th>\n",
       "      <th>salary</th>\n",
       "      <th>takers</th>\n",
       "      <th>verbal</th>\n",
       "      <th>math</th>\n",
       "      <th>total</th>\n",
       "    </tr>\n",
       "  </thead>\n",
       "  <tbody>\n",
       "    <tr>\n",
       "      <th>47</th>\n",
       "      <td>West Virginia</td>\n",
       "      <td>6.107</td>\n",
       "      <td>14.8</td>\n",
       "      <td>31.944</td>\n",
       "      <td>17</td>\n",
       "      <td>448</td>\n",
       "      <td>484</td>\n",
       "      <td>932</td>\n",
       "    </tr>\n",
       "  </tbody>\n",
       "</table>\n",
       "</div>"
      ],
      "text/plain": [
       "       Unnamed: 0  expend  ratio  salary  takers  verbal  math  total\n",
       "47  West Virginia   6.107   14.8  31.944      17     448   484    932"
      ]
     },
     "execution_count": 9,
     "metadata": {},
     "output_type": "execute_result"
    }
   ],
   "source": [
    "student_resid = influence.resid_studentized_external\n",
    "outliers = sat[abs(student_resid) > 3]\n",
    "outliers"
   ]
  },
  {
   "cell_type": "markdown",
   "metadata": {},
   "source": [
    "e. Check for influential points;"
   ]
  },
  {
   "cell_type": "code",
   "execution_count": 10,
   "metadata": {
    "scrolled": true
   },
   "outputs": [
    {
     "data": {
      "text/html": [
       "<div>\n",
       "<style scoped>\n",
       "    .dataframe tbody tr th:only-of-type {\n",
       "        vertical-align: middle;\n",
       "    }\n",
       "\n",
       "    .dataframe tbody tr th {\n",
       "        vertical-align: top;\n",
       "    }\n",
       "\n",
       "    .dataframe thead th {\n",
       "        text-align: right;\n",
       "    }\n",
       "</style>\n",
       "<table border=\"1\" class=\"dataframe\">\n",
       "  <thead>\n",
       "    <tr style=\"text-align: right;\">\n",
       "      <th></th>\n",
       "      <th>Unnamed: 0</th>\n",
       "      <th>expend</th>\n",
       "      <th>ratio</th>\n",
       "      <th>salary</th>\n",
       "      <th>takers</th>\n",
       "      <th>verbal</th>\n",
       "      <th>math</th>\n",
       "      <th>total</th>\n",
       "    </tr>\n",
       "  </thead>\n",
       "  <tbody>\n",
       "    <tr>\n",
       "      <th>6</th>\n",
       "      <td>Connecticut</td>\n",
       "      <td>8.817</td>\n",
       "      <td>14.4</td>\n",
       "      <td>50.045</td>\n",
       "      <td>81</td>\n",
       "      <td>431</td>\n",
       "      <td>477</td>\n",
       "      <td>908</td>\n",
       "    </tr>\n",
       "    <tr>\n",
       "      <th>33</th>\n",
       "      <td>North Dakota</td>\n",
       "      <td>4.775</td>\n",
       "      <td>15.3</td>\n",
       "      <td>26.327</td>\n",
       "      <td>5</td>\n",
       "      <td>515</td>\n",
       "      <td>592</td>\n",
       "      <td>1107</td>\n",
       "    </tr>\n",
       "    <tr>\n",
       "      <th>28</th>\n",
       "      <td>New Hampshire</td>\n",
       "      <td>5.859</td>\n",
       "      <td>15.6</td>\n",
       "      <td>34.720</td>\n",
       "      <td>70</td>\n",
       "      <td>444</td>\n",
       "      <td>491</td>\n",
       "      <td>935</td>\n",
       "    </tr>\n",
       "    <tr>\n",
       "      <th>47</th>\n",
       "      <td>West Virginia</td>\n",
       "      <td>6.107</td>\n",
       "      <td>14.8</td>\n",
       "      <td>31.944</td>\n",
       "      <td>17</td>\n",
       "      <td>448</td>\n",
       "      <td>484</td>\n",
       "      <td>932</td>\n",
       "    </tr>\n",
       "    <tr>\n",
       "      <th>43</th>\n",
       "      <td>Utah</td>\n",
       "      <td>3.656</td>\n",
       "      <td>24.3</td>\n",
       "      <td>29.082</td>\n",
       "      <td>4</td>\n",
       "      <td>513</td>\n",
       "      <td>563</td>\n",
       "      <td>1076</td>\n",
       "    </tr>\n",
       "  </tbody>\n",
       "</table>\n",
       "</div>"
      ],
      "text/plain": [
       "       Unnamed: 0  expend  ratio  salary  takers  verbal  math  total\n",
       "6     Connecticut   8.817   14.4  50.045      81     431   477    908\n",
       "33   North Dakota   4.775   15.3  26.327       5     515   592   1107\n",
       "28  New Hampshire   5.859   15.6  34.720      70     444   491    935\n",
       "47  West Virginia   6.107   14.8  31.944      17     448   484    932\n",
       "43           Utah   3.656   24.3  29.082       4     513   563   1076"
      ]
     },
     "execution_count": 10,
     "metadata": {},
     "output_type": "execute_result"
    }
   ],
   "source": [
    "C, P = influence.cooks_distance\n",
    "ind= np.argsort(C)[-5:]\n",
    "influential_points = sat.loc[ind]\n",
    "influential_points"
   ]
  },
  {
   "cell_type": "markdown",
   "metadata": {},
   "source": [
    "f. Check the structure of the relationship between the predictors\n",
    "and the response.\n"
   ]
  },
  {
   "cell_type": "markdown",
   "metadata": {},
   "source": [
    "use stepwise regression to remove nonsignificant predictors from the model one at a time until all predictors have p value below a certain threshhold. Start with 4 factors in this case(takers. salary, ratio, and expense). We remove expense first since the model output indicates that expense is the leasy siginificant one. Repeat this process until all predictors are significant."
   ]
  },
  {
   "cell_type": "markdown",
   "metadata": {},
   "source": [
    "the effect of takers on total score is significant, and the effects of expand, ratio, and salary are not significant enough."
   ]
  },
  {
   "cell_type": "markdown",
   "metadata": {},
   "source": [
    "***\n",
    "2. For the prostate data, fit a model with lpsa as the response and the other variables as the predictors. Answer the questions as in 1."
   ]
  },
  {
   "cell_type": "code",
   "execution_count": 12,
   "metadata": {},
   "outputs": [],
   "source": [
    "prostate = pd.read_csv('prostate.csv')\n",
    "X = prostate[[\"lcavol\",\"lweight\",\"age\",\"lbph\",\"svi\",\"lcp\",\"gleason\",\"pgg45\"]]\n",
    "y = prostate['lpsa']"
   ]
  },
  {
   "cell_type": "code",
   "execution_count": 13,
   "metadata": {},
   "outputs": [
    {
     "data": {
      "text/html": [
       "<table class=\"simpletable\">\n",
       "<caption>OLS Regression Results</caption>\n",
       "<tr>\n",
       "  <th>Dep. Variable:</th>          <td>lpsa</td>       <th>  R-squared:         </th> <td>   0.655</td>\n",
       "</tr>\n",
       "<tr>\n",
       "  <th>Model:</th>                   <td>OLS</td>       <th>  Adj. R-squared:    </th> <td>   0.623</td>\n",
       "</tr>\n",
       "<tr>\n",
       "  <th>Method:</th>             <td>Least Squares</td>  <th>  F-statistic:       </th> <td>   20.86</td>\n",
       "</tr>\n",
       "<tr>\n",
       "  <th>Date:</th>             <td>Fri, 06 May 2022</td> <th>  Prob (F-statistic):</th> <td>2.24e-17</td>\n",
       "</tr>\n",
       "<tr>\n",
       "  <th>Time:</th>                 <td>09:33:47</td>     <th>  Log-Likelihood:    </th> <td> -99.476</td>\n",
       "</tr>\n",
       "<tr>\n",
       "  <th>No. Observations:</th>      <td>    97</td>      <th>  AIC:               </th> <td>   217.0</td>\n",
       "</tr>\n",
       "<tr>\n",
       "  <th>Df Residuals:</th>          <td>    88</td>      <th>  BIC:               </th> <td>   240.1</td>\n",
       "</tr>\n",
       "<tr>\n",
       "  <th>Df Model:</th>              <td>     8</td>      <th>                     </th>     <td> </td>   \n",
       "</tr>\n",
       "<tr>\n",
       "  <th>Covariance Type:</th>      <td>nonrobust</td>    <th>                     </th>     <td> </td>   \n",
       "</tr>\n",
       "</table>\n",
       "<table class=\"simpletable\">\n",
       "<tr>\n",
       "     <td></td>        <th>coef</th>     <th>std err</th>      <th>t</th>      <th>P>|t|</th>  <th>[0.025</th>    <th>0.975]</th>  \n",
       "</tr>\n",
       "<tr>\n",
       "  <th>const</th>   <td>    0.6693</td> <td>    1.296</td> <td>    0.516</td> <td> 0.607</td> <td>   -1.907</td> <td>    3.246</td>\n",
       "</tr>\n",
       "<tr>\n",
       "  <th>lcavol</th>  <td>    0.5870</td> <td>    0.088</td> <td>    6.677</td> <td> 0.000</td> <td>    0.412</td> <td>    0.762</td>\n",
       "</tr>\n",
       "<tr>\n",
       "  <th>lweight</th> <td>    0.4545</td> <td>    0.170</td> <td>    2.673</td> <td> 0.009</td> <td>    0.117</td> <td>    0.792</td>\n",
       "</tr>\n",
       "<tr>\n",
       "  <th>age</th>     <td>   -0.0196</td> <td>    0.011</td> <td>   -1.758</td> <td> 0.082</td> <td>   -0.042</td> <td>    0.003</td>\n",
       "</tr>\n",
       "<tr>\n",
       "  <th>lbph</th>    <td>    0.1071</td> <td>    0.058</td> <td>    1.832</td> <td> 0.070</td> <td>   -0.009</td> <td>    0.223</td>\n",
       "</tr>\n",
       "<tr>\n",
       "  <th>svi</th>     <td>    0.7662</td> <td>    0.244</td> <td>    3.136</td> <td> 0.002</td> <td>    0.281</td> <td>    1.252</td>\n",
       "</tr>\n",
       "<tr>\n",
       "  <th>lcp</th>     <td>   -0.1055</td> <td>    0.091</td> <td>   -1.159</td> <td> 0.250</td> <td>   -0.286</td> <td>    0.075</td>\n",
       "</tr>\n",
       "<tr>\n",
       "  <th>gleason</th> <td>    0.0451</td> <td>    0.157</td> <td>    0.287</td> <td> 0.775</td> <td>   -0.268</td> <td>    0.358</td>\n",
       "</tr>\n",
       "<tr>\n",
       "  <th>pgg45</th>   <td>    0.0045</td> <td>    0.004</td> <td>    1.024</td> <td> 0.309</td> <td>   -0.004</td> <td>    0.013</td>\n",
       "</tr>\n",
       "</table>\n",
       "<table class=\"simpletable\">\n",
       "<tr>\n",
       "  <th>Omnibus:</th>       <td> 0.235</td> <th>  Durbin-Watson:     </th> <td>   1.507</td>\n",
       "</tr>\n",
       "<tr>\n",
       "  <th>Prob(Omnibus):</th> <td> 0.889</td> <th>  Jarque-Bera (JB):  </th> <td>   0.026</td>\n",
       "</tr>\n",
       "<tr>\n",
       "  <th>Skew:</th>          <td>-0.017</td> <th>  Prob(JB):          </th> <td>   0.987</td>\n",
       "</tr>\n",
       "<tr>\n",
       "  <th>Kurtosis:</th>      <td> 3.073</td> <th>  Cond. No.          </th> <td>1.28e+03</td>\n",
       "</tr>\n",
       "</table><br/><br/>Notes:<br/>[1] Standard Errors assume that the covariance matrix of the errors is correctly specified.<br/>[2] The condition number is large, 1.28e+03. This might indicate that there are<br/>strong multicollinearity or other numerical problems."
      ],
      "text/plain": [
       "<class 'statsmodels.iolib.summary.Summary'>\n",
       "\"\"\"\n",
       "                            OLS Regression Results                            \n",
       "==============================================================================\n",
       "Dep. Variable:                   lpsa   R-squared:                       0.655\n",
       "Model:                            OLS   Adj. R-squared:                  0.623\n",
       "Method:                 Least Squares   F-statistic:                     20.86\n",
       "Date:                Fri, 06 May 2022   Prob (F-statistic):           2.24e-17\n",
       "Time:                        09:33:47   Log-Likelihood:                -99.476\n",
       "No. Observations:                  97   AIC:                             217.0\n",
       "Df Residuals:                      88   BIC:                             240.1\n",
       "Df Model:                           8                                         \n",
       "Covariance Type:            nonrobust                                         \n",
       "==============================================================================\n",
       "                 coef    std err          t      P>|t|      [0.025      0.975]\n",
       "------------------------------------------------------------------------------\n",
       "const          0.6693      1.296      0.516      0.607      -1.907       3.246\n",
       "lcavol         0.5870      0.088      6.677      0.000       0.412       0.762\n",
       "lweight        0.4545      0.170      2.673      0.009       0.117       0.792\n",
       "age           -0.0196      0.011     -1.758      0.082      -0.042       0.003\n",
       "lbph           0.1071      0.058      1.832      0.070      -0.009       0.223\n",
       "svi            0.7662      0.244      3.136      0.002       0.281       1.252\n",
       "lcp           -0.1055      0.091     -1.159      0.250      -0.286       0.075\n",
       "gleason        0.0451      0.157      0.287      0.775      -0.268       0.358\n",
       "pgg45          0.0045      0.004      1.024      0.309      -0.004       0.013\n",
       "==============================================================================\n",
       "Omnibus:                        0.235   Durbin-Watson:                   1.507\n",
       "Prob(Omnibus):                  0.889   Jarque-Bera (JB):                0.026\n",
       "Skew:                          -0.017   Prob(JB):                        0.987\n",
       "Kurtosis:                       3.073   Cond. No.                     1.28e+03\n",
       "==============================================================================\n",
       "\n",
       "Notes:\n",
       "[1] Standard Errors assume that the covariance matrix of the errors is correctly specified.\n",
       "[2] The condition number is large, 1.28e+03. This might indicate that there are\n",
       "strong multicollinearity or other numerical problems.\n",
       "\"\"\""
      ]
     },
     "execution_count": 13,
     "metadata": {},
     "output_type": "execute_result"
    }
   ],
   "source": [
    "X_c = sm.add_constant(X)\n",
    "model2 = sm.OLS(y, X_c).fit()\n",
    "y_pred = model2.predict(X_c)\n",
    "model2.summary()"
   ]
  },
  {
   "cell_type": "code",
   "execution_count": 14,
   "metadata": {
    "scrolled": true
   },
   "outputs": [
    {
     "data": {
      "text/plain": [
       "<matplotlib.collections.PathCollection at 0x7fbf425682b0>"
      ]
     },
     "execution_count": 14,
     "metadata": {},
     "output_type": "execute_result"
    },
    {
     "data": {
      "image/png": "[encoded data removed]",
      "text/plain": [
       "<Figure size 432x288 with 1 Axes>"
      ]
     },
     "metadata": {
      "needs_background": "light"
     },
     "output_type": "display_data"
    }
   ],
   "source": [
    "error = (y-y_pred).to_numpy()\n",
    "\n",
    "plt.scatter(y_pred,error)"
   ]
  },
  {
   "cell_type": "markdown",
   "metadata": {},
   "source": [
    "the constant variance assumption for the errors is met"
   ]
  },
  {
   "cell_type": "code",
   "execution_count": 15,
   "metadata": {
    "scrolled": true
   },
   "outputs": [
    {
     "data": {
      "image/png": "[encoded data removed]",
      "text/plain": [
       "<Figure size 432x288 with 1 Axes>"
      ]
     },
     "metadata": {
      "needs_background": "light"
     },
     "output_type": "display_data"
    }
   ],
   "source": [
    "stats.probplot(error, dist=\"norm\", plot=plt)\n",
    "plt.show()"
   ]
  },
  {
   "cell_type": "markdown",
   "metadata": {},
   "source": [
    "The approximately straight line verifies the normality for the errors."
   ]
  },
  {
   "cell_type": "code",
   "execution_count": 16,
   "metadata": {
    "scrolled": true
   },
   "outputs": [
    {
     "data": {
      "text/html": [
       "<div>\n",
       "<style scoped>\n",
       "    .dataframe tbody tr th:only-of-type {\n",
       "        vertical-align: middle;\n",
       "    }\n",
       "\n",
       "    .dataframe tbody tr th {\n",
       "        vertical-align: top;\n",
       "    }\n",
       "\n",
       "    .dataframe thead th {\n",
       "        text-align: right;\n",
       "    }\n",
       "</style>\n",
       "<table border=\"1\" class=\"dataframe\">\n",
       "  <thead>\n",
       "    <tr style=\"text-align: right;\">\n",
       "      <th></th>\n",
       "      <th>Unnamed: 0</th>\n",
       "      <th>lcavol</th>\n",
       "      <th>lweight</th>\n",
       "      <th>age</th>\n",
       "      <th>lbph</th>\n",
       "      <th>svi</th>\n",
       "      <th>lcp</th>\n",
       "      <th>gleason</th>\n",
       "      <th>pgg45</th>\n",
       "      <th>lpsa</th>\n",
       "    </tr>\n",
       "  </thead>\n",
       "  <tbody>\n",
       "    <tr>\n",
       "      <th>31</th>\n",
       "      <td>32</td>\n",
       "      <td>0.182322</td>\n",
       "      <td>6.1076</td>\n",
       "      <td>65</td>\n",
       "      <td>1.704748</td>\n",
       "      <td>0</td>\n",
       "      <td>-1.38629</td>\n",
       "      <td>6</td>\n",
       "      <td>0</td>\n",
       "      <td>2.00821</td>\n",
       "    </tr>\n",
       "    <tr>\n",
       "      <th>36</th>\n",
       "      <td>37</td>\n",
       "      <td>1.423108</td>\n",
       "      <td>3.6571</td>\n",
       "      <td>73</td>\n",
       "      <td>-0.579818</td>\n",
       "      <td>0</td>\n",
       "      <td>1.65823</td>\n",
       "      <td>8</td>\n",
       "      <td>15</td>\n",
       "      <td>2.15756</td>\n",
       "    </tr>\n",
       "    <tr>\n",
       "      <th>40</th>\n",
       "      <td>41</td>\n",
       "      <td>0.620577</td>\n",
       "      <td>3.1420</td>\n",
       "      <td>60</td>\n",
       "      <td>-1.386294</td>\n",
       "      <td>0</td>\n",
       "      <td>-1.38629</td>\n",
       "      <td>9</td>\n",
       "      <td>80</td>\n",
       "      <td>2.29757</td>\n",
       "    </tr>\n",
       "    <tr>\n",
       "      <th>73</th>\n",
       "      <td>74</td>\n",
       "      <td>1.838961</td>\n",
       "      <td>3.2367</td>\n",
       "      <td>60</td>\n",
       "      <td>0.438255</td>\n",
       "      <td>1</td>\n",
       "      <td>1.17865</td>\n",
       "      <td>9</td>\n",
       "      <td>90</td>\n",
       "      <td>3.07501</td>\n",
       "    </tr>\n",
       "    <tr>\n",
       "      <th>91</th>\n",
       "      <td>92</td>\n",
       "      <td>2.532903</td>\n",
       "      <td>3.6776</td>\n",
       "      <td>61</td>\n",
       "      <td>1.348073</td>\n",
       "      <td>1</td>\n",
       "      <td>-1.38629</td>\n",
       "      <td>7</td>\n",
       "      <td>15</td>\n",
       "      <td>4.12955</td>\n",
       "    </tr>\n",
       "  </tbody>\n",
       "</table>\n",
       "</div>"
      ],
      "text/plain": [
       "    Unnamed: 0    lcavol  lweight  age      lbph  svi      lcp  gleason  \\\n",
       "31          32  0.182322   6.1076   65  1.704748    0 -1.38629        6   \n",
       "36          37  1.423108   3.6571   73 -0.579818    0  1.65823        8   \n",
       "40          41  0.620577   3.1420   60 -1.386294    0 -1.38629        9   \n",
       "73          74  1.838961   3.2367   60  0.438255    1  1.17865        9   \n",
       "91          92  2.532903   3.6776   61  1.348073    1 -1.38629        7   \n",
       "\n",
       "    pgg45     lpsa  \n",
       "31      0  2.00821  \n",
       "36     15  2.15756  \n",
       "40     80  2.29757  \n",
       "73     90  3.07501  \n",
       "91     15  4.12955  "
      ]
     },
     "execution_count": 16,
     "metadata": {},
     "output_type": "execute_result"
    }
   ],
   "source": [
    "influence = model2.get_influence()\n",
    "leverage = influence.hat_matrix_diag\n",
    "#point with high leverage = (2k+2)/n = 2*8 + 2 /97= 0.2\n",
    "high_leverage = prostate[abs(leverage) > (18/97)]\n",
    "high_leverage"
   ]
  },
  {
   "cell_type": "markdown",
   "metadata": {},
   "source": [
    "leverages"
   ]
  },
  {
   "cell_type": "code",
   "execution_count": 17,
   "metadata": {},
   "outputs": [
    {
     "data": {
      "text/plain": [
       "array([0.07873101, 0.06758053, 0.13596177, 0.07766218, 0.03499946,\n",
       "       0.08331908, 0.02989838, 0.0494461 , 0.0940149 , 0.04023404,\n",
       "       0.04386826, 0.08925939, 0.04428928, 0.07318519, 0.05020755,\n",
       "       0.06897432, 0.06664413, 0.08320122, 0.12212111, 0.04895576,\n",
       "       0.03901634, 0.08400872, 0.04434074, 0.07206303, 0.04582684,\n",
       "       0.06594655, 0.12048487, 0.06479337, 0.12707056, 0.14633177,\n",
       "       0.05065029, 0.33047574, 0.09515819, 0.04280678, 0.05106283,\n",
       "       0.06791041, 0.2184392 , 0.09801067, 0.06794996, 0.08106758,\n",
       "       0.24100789, 0.06115256, 0.04674467, 0.09036588, 0.04262527,\n",
       "       0.05037151, 0.1506595 , 0.03401242, 0.13512286, 0.05080725,\n",
       "       0.09924342, 0.06415518, 0.09348895, 0.07187492, 0.13470108,\n",
       "       0.05990394, 0.11665631, 0.08910835, 0.05105674, 0.05799578,\n",
       "       0.07677022, 0.08328592, 0.18468066, 0.09024807, 0.06930978,\n",
       "       0.03186343, 0.10275238, 0.06477415, 0.12851989, 0.10032173,\n",
       "       0.07369386, 0.08242713, 0.10951482, 0.19121086, 0.09640539,\n",
       "       0.08250756, 0.08575379, 0.11272985, 0.09614805, 0.08839341,\n",
       "       0.04703294, 0.13546482, 0.09985996, 0.16486479, 0.05500489,\n",
       "       0.07678173, 0.08402812, 0.07548214, 0.14356635, 0.12517373,\n",
       "       0.15531867, 0.20924207, 0.07897648, 0.18454695, 0.14129097,\n",
       "       0.11814056, 0.11689127])"
      ]
     },
     "execution_count": 17,
     "metadata": {},
     "output_type": "execute_result"
    }
   ],
   "source": [
    "leverage"
   ]
  },
  {
   "cell_type": "code",
   "execution_count": 18,
   "metadata": {},
   "outputs": [
    {
     "data": {
      "text/html": [
       "<div>\n",
       "<style scoped>\n",
       "    .dataframe tbody tr th:only-of-type {\n",
       "        vertical-align: middle;\n",
       "    }\n",
       "\n",
       "    .dataframe tbody tr th {\n",
       "        vertical-align: top;\n",
       "    }\n",
       "\n",
       "    .dataframe thead th {\n",
       "        text-align: right;\n",
       "    }\n",
       "</style>\n",
       "<table border=\"1\" class=\"dataframe\">\n",
       "  <thead>\n",
       "    <tr style=\"text-align: right;\">\n",
       "      <th></th>\n",
       "      <th>Unnamed: 0</th>\n",
       "      <th>lcavol</th>\n",
       "      <th>lweight</th>\n",
       "      <th>age</th>\n",
       "      <th>lbph</th>\n",
       "      <th>svi</th>\n",
       "      <th>lcp</th>\n",
       "      <th>gleason</th>\n",
       "      <th>pgg45</th>\n",
       "      <th>lpsa</th>\n",
       "    </tr>\n",
       "  </thead>\n",
       "  <tbody>\n",
       "    <tr>\n",
       "      <th>38</th>\n",
       "      <td>39</td>\n",
       "      <td>2.660959</td>\n",
       "      <td>4.0851</td>\n",
       "      <td>68</td>\n",
       "      <td>1.373716</td>\n",
       "      <td>1</td>\n",
       "      <td>1.83258</td>\n",
       "      <td>7</td>\n",
       "      <td>35</td>\n",
       "      <td>2.21375</td>\n",
       "    </tr>\n",
       "    <tr>\n",
       "      <th>46</th>\n",
       "      <td>47</td>\n",
       "      <td>2.727853</td>\n",
       "      <td>3.9954</td>\n",
       "      <td>79</td>\n",
       "      <td>1.879465</td>\n",
       "      <td>1</td>\n",
       "      <td>2.65676</td>\n",
       "      <td>9</td>\n",
       "      <td>100</td>\n",
       "      <td>2.56879</td>\n",
       "    </tr>\n",
       "    <tr>\n",
       "      <th>68</th>\n",
       "      <td>69</td>\n",
       "      <td>-0.446287</td>\n",
       "      <td>4.4085</td>\n",
       "      <td>69</td>\n",
       "      <td>-1.386294</td>\n",
       "      <td>0</td>\n",
       "      <td>-1.38629</td>\n",
       "      <td>6</td>\n",
       "      <td>0</td>\n",
       "      <td>2.96269</td>\n",
       "    </tr>\n",
       "    <tr>\n",
       "      <th>94</th>\n",
       "      <td>95</td>\n",
       "      <td>2.907447</td>\n",
       "      <td>3.3962</td>\n",
       "      <td>52</td>\n",
       "      <td>-1.386294</td>\n",
       "      <td>1</td>\n",
       "      <td>2.46385</td>\n",
       "      <td>7</td>\n",
       "      <td>10</td>\n",
       "      <td>5.14312</td>\n",
       "    </tr>\n",
       "    <tr>\n",
       "      <th>96</th>\n",
       "      <td>97</td>\n",
       "      <td>3.471967</td>\n",
       "      <td>3.9750</td>\n",
       "      <td>68</td>\n",
       "      <td>0.438255</td>\n",
       "      <td>1</td>\n",
       "      <td>2.90417</td>\n",
       "      <td>7</td>\n",
       "      <td>20</td>\n",
       "      <td>5.58293</td>\n",
       "    </tr>\n",
       "  </tbody>\n",
       "</table>\n",
       "</div>"
      ],
      "text/plain": [
       "    Unnamed: 0    lcavol  lweight  age      lbph  svi      lcp  gleason  \\\n",
       "38          39  2.660959   4.0851   68  1.373716    1  1.83258        7   \n",
       "46          47  2.727853   3.9954   79  1.879465    1  2.65676        9   \n",
       "68          69 -0.446287   4.4085   69 -1.386294    0 -1.38629        6   \n",
       "94          95  2.907447   3.3962   52 -1.386294    1  2.46385        7   \n",
       "96          97  3.471967   3.9750   68  0.438255    1  2.90417        7   \n",
       "\n",
       "    pgg45     lpsa  \n",
       "38     35  2.21375  \n",
       "46    100  2.56879  \n",
       "68      0  2.96269  \n",
       "94     10  5.14312  \n",
       "96     20  5.58293  "
      ]
     },
     "execution_count": 18,
     "metadata": {},
     "output_type": "execute_result"
    }
   ],
   "source": [
    "student_resid = influence.resid_studentized_external\n",
    "outliers = prostate[abs(student_resid) > 2]\n",
    "outliers"
   ]
  },
  {
   "cell_type": "code",
   "execution_count": 19,
   "metadata": {
    "scrolled": true
   },
   "outputs": [
    {
     "data": {
      "text/html": [
       "<div>\n",
       "<style scoped>\n",
       "    .dataframe tbody tr th:only-of-type {\n",
       "        vertical-align: middle;\n",
       "    }\n",
       "\n",
       "    .dataframe tbody tr th {\n",
       "        vertical-align: top;\n",
       "    }\n",
       "\n",
       "    .dataframe thead th {\n",
       "        text-align: right;\n",
       "    }\n",
       "</style>\n",
       "<table border=\"1\" class=\"dataframe\">\n",
       "  <thead>\n",
       "    <tr style=\"text-align: right;\">\n",
       "      <th></th>\n",
       "      <th>Unnamed: 0</th>\n",
       "      <th>lcavol</th>\n",
       "      <th>lweight</th>\n",
       "      <th>age</th>\n",
       "      <th>lbph</th>\n",
       "      <th>svi</th>\n",
       "      <th>lcp</th>\n",
       "      <th>gleason</th>\n",
       "      <th>pgg45</th>\n",
       "      <th>lpsa</th>\n",
       "    </tr>\n",
       "  </thead>\n",
       "  <tbody>\n",
       "    <tr>\n",
       "      <th>96</th>\n",
       "      <td>97</td>\n",
       "      <td>3.471967</td>\n",
       "      <td>3.9750</td>\n",
       "      <td>68</td>\n",
       "      <td>0.438255</td>\n",
       "      <td>1</td>\n",
       "      <td>2.90417</td>\n",
       "      <td>7</td>\n",
       "      <td>20</td>\n",
       "      <td>5.58293</td>\n",
       "    </tr>\n",
       "    <tr>\n",
       "      <th>94</th>\n",
       "      <td>95</td>\n",
       "      <td>2.907447</td>\n",
       "      <td>3.3962</td>\n",
       "      <td>52</td>\n",
       "      <td>-1.386294</td>\n",
       "      <td>1</td>\n",
       "      <td>2.46385</td>\n",
       "      <td>7</td>\n",
       "      <td>10</td>\n",
       "      <td>5.14312</td>\n",
       "    </tr>\n",
       "    <tr>\n",
       "      <th>68</th>\n",
       "      <td>69</td>\n",
       "      <td>-0.446287</td>\n",
       "      <td>4.4085</td>\n",
       "      <td>69</td>\n",
       "      <td>-1.386294</td>\n",
       "      <td>0</td>\n",
       "      <td>-1.38629</td>\n",
       "      <td>6</td>\n",
       "      <td>0</td>\n",
       "      <td>2.96269</td>\n",
       "    </tr>\n",
       "    <tr>\n",
       "      <th>46</th>\n",
       "      <td>47</td>\n",
       "      <td>2.727853</td>\n",
       "      <td>3.9954</td>\n",
       "      <td>79</td>\n",
       "      <td>1.879465</td>\n",
       "      <td>1</td>\n",
       "      <td>2.65676</td>\n",
       "      <td>9</td>\n",
       "      <td>100</td>\n",
       "      <td>2.56879</td>\n",
       "    </tr>\n",
       "    <tr>\n",
       "      <th>31</th>\n",
       "      <td>32</td>\n",
       "      <td>0.182322</td>\n",
       "      <td>6.1076</td>\n",
       "      <td>65</td>\n",
       "      <td>1.704748</td>\n",
       "      <td>0</td>\n",
       "      <td>-1.38629</td>\n",
       "      <td>6</td>\n",
       "      <td>0</td>\n",
       "      <td>2.00821</td>\n",
       "    </tr>\n",
       "  </tbody>\n",
       "</table>\n",
       "</div>"
      ],
      "text/plain": [
       "    Unnamed: 0    lcavol  lweight  age      lbph  svi      lcp  gleason  \\\n",
       "96          97  3.471967   3.9750   68  0.438255    1  2.90417        7   \n",
       "94          95  2.907447   3.3962   52 -1.386294    1  2.46385        7   \n",
       "68          69 -0.446287   4.4085   69 -1.386294    0 -1.38629        6   \n",
       "46          47  2.727853   3.9954   79  1.879465    1  2.65676        9   \n",
       "31          32  0.182322   6.1076   65  1.704748    0 -1.38629        6   \n",
       "\n",
       "    pgg45     lpsa  \n",
       "96     20  5.58293  \n",
       "94     10  5.14312  \n",
       "68      0  2.96269  \n",
       "46    100  2.56879  \n",
       "31      0  2.00821  "
      ]
     },
     "execution_count": 19,
     "metadata": {},
     "output_type": "execute_result"
    }
   ],
   "source": [
    "C, P = influence.cooks_distance\n",
    "ind= np.argsort(C)[-5:]\n",
    "influential_points = prostate.loc[ind]\n",
    "influential_points"
   ]
  },
  {
   "cell_type": "markdown",
   "metadata": {},
   "source": [
    "\n",
    "use stepwise regression to remove nonsignificant predictors from the model one at a time until all predictors have p value below a certain threshhold. Start with 8 factors in this case(lcavol, lweight, age, svi, lbph, lcp, gleason, pgg45). We remove gleason first since the model output indicates that gleason is the least siginificant one. Repeat the process until all remaining predictors are significant."
   ]
  },
  {
   "cell_type": "markdown",
   "metadata": {},
   "source": [
    "***\n",
    "3. For the swiss data, fit a model with Fertility as the response and the other variables as predictors. Answer the questions as in 1."
   ]
  },
  {
   "cell_type": "code",
   "execution_count": 23,
   "metadata": {},
   "outputs": [],
   "source": [
    "swiss = pd.read_csv('swiss.csv')\n",
    "X = swiss[[\"Agriculture\",\"Examination\",\"Education\",\"Catholic\",\"Infant_Mortality\"]]\n",
    "y = swiss['Fertility']"
   ]
  },
  {
   "cell_type": "code",
   "execution_count": 24,
   "metadata": {},
   "outputs": [
    {
     "data": {
      "text/html": [
       "<table class=\"simpletable\">\n",
       "<caption>OLS Regression Results</caption>\n",
       "<tr>\n",
       "  <th>Dep. Variable:</th>        <td>Fertility</td>    <th>  R-squared:         </th> <td>   0.707</td>\n",
       "</tr>\n",
       "<tr>\n",
       "  <th>Model:</th>                   <td>OLS</td>       <th>  Adj. R-squared:    </th> <td>   0.671</td>\n",
       "</tr>\n",
       "<tr>\n",
       "  <th>Method:</th>             <td>Least Squares</td>  <th>  F-statistic:       </th> <td>   19.76</td>\n",
       "</tr>\n",
       "<tr>\n",
       "  <th>Date:</th>             <td>Fri, 06 May 2022</td> <th>  Prob (F-statistic):</th> <td>5.59e-10</td>\n",
       "</tr>\n",
       "<tr>\n",
       "  <th>Time:</th>                 <td>09:36:37</td>     <th>  Log-Likelihood:    </th> <td> -156.04</td>\n",
       "</tr>\n",
       "<tr>\n",
       "  <th>No. Observations:</th>      <td>    47</td>      <th>  AIC:               </th> <td>   324.1</td>\n",
       "</tr>\n",
       "<tr>\n",
       "  <th>Df Residuals:</th>          <td>    41</td>      <th>  BIC:               </th> <td>   335.2</td>\n",
       "</tr>\n",
       "<tr>\n",
       "  <th>Df Model:</th>              <td>     5</td>      <th>                     </th>     <td> </td>   \n",
       "</tr>\n",
       "<tr>\n",
       "  <th>Covariance Type:</th>      <td>nonrobust</td>    <th>                     </th>     <td> </td>   \n",
       "</tr>\n",
       "</table>\n",
       "<table class=\"simpletable\">\n",
       "<tr>\n",
       "          <td></td>            <th>coef</th>     <th>std err</th>      <th>t</th>      <th>P>|t|</th>  <th>[0.025</th>    <th>0.975]</th>  \n",
       "</tr>\n",
       "<tr>\n",
       "  <th>const</th>            <td>   66.9152</td> <td>   10.706</td> <td>    6.250</td> <td> 0.000</td> <td>   45.294</td> <td>   88.536</td>\n",
       "</tr>\n",
       "<tr>\n",
       "  <th>Agriculture</th>      <td>   -0.1721</td> <td>    0.070</td> <td>   -2.448</td> <td> 0.019</td> <td>   -0.314</td> <td>   -0.030</td>\n",
       "</tr>\n",
       "<tr>\n",
       "  <th>Examination</th>      <td>   -0.2580</td> <td>    0.254</td> <td>   -1.016</td> <td> 0.315</td> <td>   -0.771</td> <td>    0.255</td>\n",
       "</tr>\n",
       "<tr>\n",
       "  <th>Education</th>        <td>   -0.8709</td> <td>    0.183</td> <td>   -4.758</td> <td> 0.000</td> <td>   -1.241</td> <td>   -0.501</td>\n",
       "</tr>\n",
       "<tr>\n",
       "  <th>Catholic</th>         <td>    0.1041</td> <td>    0.035</td> <td>    2.953</td> <td> 0.005</td> <td>    0.033</td> <td>    0.175</td>\n",
       "</tr>\n",
       "<tr>\n",
       "  <th>Infant_Mortality</th> <td>    1.0770</td> <td>    0.382</td> <td>    2.822</td> <td> 0.007</td> <td>    0.306</td> <td>    1.848</td>\n",
       "</tr>\n",
       "</table>\n",
       "<table class=\"simpletable\">\n",
       "<tr>\n",
       "  <th>Omnibus:</th>       <td> 0.058</td> <th>  Durbin-Watson:     </th> <td>   1.454</td>\n",
       "</tr>\n",
       "<tr>\n",
       "  <th>Prob(Omnibus):</th> <td> 0.971</td> <th>  Jarque-Bera (JB):  </th> <td>   0.155</td>\n",
       "</tr>\n",
       "<tr>\n",
       "  <th>Skew:</th>          <td>-0.077</td> <th>  Prob(JB):          </th> <td>   0.925</td>\n",
       "</tr>\n",
       "<tr>\n",
       "  <th>Kurtosis:</th>      <td> 2.764</td> <th>  Cond. No.          </th> <td>    807.</td>\n",
       "</tr>\n",
       "</table><br/><br/>Notes:<br/>[1] Standard Errors assume that the covariance matrix of the errors is correctly specified."
      ],
      "text/plain": [
       "<class 'statsmodels.iolib.summary.Summary'>\n",
       "\"\"\"\n",
       "                            OLS Regression Results                            \n",
       "==============================================================================\n",
       "Dep. Variable:              Fertility   R-squared:                       0.707\n",
       "Model:                            OLS   Adj. R-squared:                  0.671\n",
       "Method:                 Least Squares   F-statistic:                     19.76\n",
       "Date:                Fri, 06 May 2022   Prob (F-statistic):           5.59e-10\n",
       "Time:                        09:36:37   Log-Likelihood:                -156.04\n",
       "No. Observations:                  47   AIC:                             324.1\n",
       "Df Residuals:                      41   BIC:                             335.2\n",
       "Df Model:                           5                                         \n",
       "Covariance Type:            nonrobust                                         \n",
       "====================================================================================\n",
       "                       coef    std err          t      P>|t|      [0.025      0.975]\n",
       "------------------------------------------------------------------------------------\n",
       "const               66.9152     10.706      6.250      0.000      45.294      88.536\n",
       "Agriculture         -0.1721      0.070     -2.448      0.019      -0.314      -0.030\n",
       "Examination         -0.2580      0.254     -1.016      0.315      -0.771       0.255\n",
       "Education           -0.8709      0.183     -4.758      0.000      -1.241      -0.501\n",
       "Catholic             0.1041      0.035      2.953      0.005       0.033       0.175\n",
       "Infant_Mortality     1.0770      0.382      2.822      0.007       0.306       1.848\n",
       "==============================================================================\n",
       "Omnibus:                        0.058   Durbin-Watson:                   1.454\n",
       "Prob(Omnibus):                  0.971   Jarque-Bera (JB):                0.155\n",
       "Skew:                          -0.077   Prob(JB):                        0.925\n",
       "Kurtosis:                       2.764   Cond. No.                         807.\n",
       "==============================================================================\n",
       "\n",
       "Notes:\n",
       "[1] Standard Errors assume that the covariance matrix of the errors is correctly specified.\n",
       "\"\"\""
      ]
     },
     "execution_count": 24,
     "metadata": {},
     "output_type": "execute_result"
    }
   ],
   "source": [
    "X_c = sm.add_constant(X)\n",
    "model = sm.OLS(y, X_c).fit()\n",
    "y_pred = model.predict(X_c)\n",
    "model.summary()"
   ]
  },
  {
   "cell_type": "code",
   "execution_count": 25,
   "metadata": {
    "scrolled": true
   },
   "outputs": [
    {
     "data": {
      "text/plain": [
       "<matplotlib.collections.PathCollection at 0x7fbf42ad1850>"
      ]
     },
     "execution_count": 25,
     "metadata": {},
     "output_type": "execute_result"
    },
    {
     "data": {
      "image/png": "[encoded data removed]",
      "text/plain": [
       "<Figure size 432x288 with 1 Axes>"
      ]
     },
     "metadata": {
      "needs_background": "light"
     },
     "output_type": "display_data"
    }
   ],
   "source": [
    "error = (y-y_pred).to_numpy()\n",
    "\n",
    "plt.scatter(y_pred,error)"
   ]
  },
  {
   "cell_type": "markdown",
   "metadata": {},
   "source": [
    "the constant variance assumption for the errors is met"
   ]
  },
  {
   "cell_type": "code",
   "execution_count": 26,
   "metadata": {
    "scrolled": true
   },
   "outputs": [
    {
     "data": {
      "image/png": "[encoded data removed]",
      "text/plain": [
       "<Figure size 432x288 with 1 Axes>"
      ]
     },
     "metadata": {
      "needs_background": "light"
     },
     "output_type": "display_data"
    }
   ],
   "source": [
    "stats.probplot(error, dist=\"norm\", plot=plt)\n",
    "plt.show()"
   ]
  },
  {
   "cell_type": "markdown",
   "metadata": {},
   "source": [
    "The approximately straight line verifies the normality for the errors."
   ]
  },
  {
   "cell_type": "code",
   "execution_count": 27,
   "metadata": {},
   "outputs": [
    {
     "data": {
      "text/html": [
       "<div>\n",
       "<style scoped>\n",
       "    .dataframe tbody tr th:only-of-type {\n",
       "        vertical-align: middle;\n",
       "    }\n",
       "\n",
       "    .dataframe tbody tr th {\n",
       "        vertical-align: top;\n",
       "    }\n",
       "\n",
       "    .dataframe thead th {\n",
       "        text-align: right;\n",
       "    }\n",
       "</style>\n",
       "<table border=\"1\" class=\"dataframe\">\n",
       "  <thead>\n",
       "    <tr style=\"text-align: right;\">\n",
       "      <th></th>\n",
       "      <th>Unnamed: 0</th>\n",
       "      <th>Fertility</th>\n",
       "      <th>Agriculture</th>\n",
       "      <th>Examination</th>\n",
       "      <th>Education</th>\n",
       "      <th>Catholic</th>\n",
       "      <th>Infant_Mortality</th>\n",
       "    </tr>\n",
       "  </thead>\n",
       "  <tbody>\n",
       "    <tr>\n",
       "      <th>18</th>\n",
       "      <td>La Vallee</td>\n",
       "      <td>54.3</td>\n",
       "      <td>15.2</td>\n",
       "      <td>31</td>\n",
       "      <td>20</td>\n",
       "      <td>2.15</td>\n",
       "      <td>10.8</td>\n",
       "    </tr>\n",
       "    <tr>\n",
       "      <th>44</th>\n",
       "      <td>V. De Geneve</td>\n",
       "      <td>35.0</td>\n",
       "      <td>1.2</td>\n",
       "      <td>37</td>\n",
       "      <td>53</td>\n",
       "      <td>42.34</td>\n",
       "      <td>18.0</td>\n",
       "    </tr>\n",
       "  </tbody>\n",
       "</table>\n",
       "</div>"
      ],
      "text/plain": [
       "      Unnamed: 0  Fertility  Agriculture  Examination  Education  Catholic  \\\n",
       "18     La Vallee       54.3         15.2           31         20      2.15   \n",
       "44  V. De Geneve       35.0          1.2           37         53     42.34   \n",
       "\n",
       "    Infant_Mortality  \n",
       "18              10.8  \n",
       "44              18.0  "
      ]
     },
     "execution_count": 27,
     "metadata": {},
     "output_type": "execute_result"
    }
   ],
   "source": [
    "influence = model.get_influence()\n",
    "leverage = influence.hat_matrix_diag\n",
    "#point with high leverage = (2k+2)/n = 12/47\n",
    "high_leverage = swiss[abs(leverage) > (12/47)]\n",
    "high_leverage"
   ]
  },
  {
   "cell_type": "markdown",
   "metadata": {},
   "source": [
    "leverages"
   ]
  },
  {
   "cell_type": "code",
   "execution_count": 28,
   "metadata": {},
   "outputs": [
    {
     "data": {
      "text/plain": [
       "array([0.15681744, 0.12258494, 0.17368296, 0.07961648, 0.07219003,\n",
       "       0.19833238, 0.14308241, 0.14145774, 0.07994004, 0.10682273,\n",
       "       0.13676942, 0.08319314, 0.08392561, 0.10990923, 0.12551221,\n",
       "       0.106312  , 0.06853488, 0.10175031, 0.3512078 , 0.11137547,\n",
       "       0.07425778, 0.08277061, 0.06410496, 0.1092143 , 0.10036242,\n",
       "       0.12569646, 0.18059095, 0.07905125, 0.0532821 , 0.07706245,\n",
       "       0.1733592 , 0.09204746, 0.1083415 , 0.09800616, 0.07675938,\n",
       "       0.09177212, 0.1424621 , 0.081257  , 0.07683116, 0.22629672,\n",
       "       0.09981583, 0.20532241, 0.07366702, 0.17219053, 0.45583631,\n",
       "       0.21067014, 0.11595449])"
      ]
     },
     "execution_count": 28,
     "metadata": {},
     "output_type": "execute_result"
    }
   ],
   "source": [
    "leverage"
   ]
  },
  {
   "cell_type": "code",
   "execution_count": 29,
   "metadata": {},
   "outputs": [
    {
     "data": {
      "text/html": [
       "<div>\n",
       "<style scoped>\n",
       "    .dataframe tbody tr th:only-of-type {\n",
       "        vertical-align: middle;\n",
       "    }\n",
       "\n",
       "    .dataframe tbody tr th {\n",
       "        vertical-align: top;\n",
       "    }\n",
       "\n",
       "    .dataframe thead th {\n",
       "        text-align: right;\n",
       "    }\n",
       "</style>\n",
       "<table border=\"1\" class=\"dataframe\">\n",
       "  <thead>\n",
       "    <tr style=\"text-align: right;\">\n",
       "      <th></th>\n",
       "      <th>Unnamed: 0</th>\n",
       "      <th>Fertility</th>\n",
       "      <th>Agriculture</th>\n",
       "      <th>Examination</th>\n",
       "      <th>Education</th>\n",
       "      <th>Catholic</th>\n",
       "      <th>Infant_Mortality</th>\n",
       "    </tr>\n",
       "  </thead>\n",
       "  <tbody>\n",
       "    <tr>\n",
       "      <th>5</th>\n",
       "      <td>Porrentruy</td>\n",
       "      <td>76.1</td>\n",
       "      <td>35.3</td>\n",
       "      <td>9</td>\n",
       "      <td>7</td>\n",
       "      <td>90.57</td>\n",
       "      <td>26.6</td>\n",
       "    </tr>\n",
       "    <tr>\n",
       "      <th>36</th>\n",
       "      <td>Sierre</td>\n",
       "      <td>92.2</td>\n",
       "      <td>84.6</td>\n",
       "      <td>3</td>\n",
       "      <td>3</td>\n",
       "      <td>99.46</td>\n",
       "      <td>16.3</td>\n",
       "    </tr>\n",
       "    <tr>\n",
       "      <th>46</th>\n",
       "      <td>Rive Gauche</td>\n",
       "      <td>42.8</td>\n",
       "      <td>27.7</td>\n",
       "      <td>22</td>\n",
       "      <td>29</td>\n",
       "      <td>58.33</td>\n",
       "      <td>19.3</td>\n",
       "    </tr>\n",
       "  </tbody>\n",
       "</table>\n",
       "</div>"
      ],
      "text/plain": [
       "     Unnamed: 0  Fertility  Agriculture  Examination  Education  Catholic  \\\n",
       "5    Porrentruy       76.1         35.3            9          7     90.57   \n",
       "36       Sierre       92.2         84.6            3          3     99.46   \n",
       "46  Rive Gauche       42.8         27.7           22         29     58.33   \n",
       "\n",
       "    Infant_Mortality  \n",
       "5               26.6  \n",
       "36              16.3  \n",
       "46              19.3  "
      ]
     },
     "execution_count": 29,
     "metadata": {},
     "output_type": "execute_result"
    }
   ],
   "source": [
    "student_resid = influence.resid_studentized_external\n",
    "outliers = swiss[abs(student_resid) > 2]\n",
    "outliers"
   ]
  },
  {
   "cell_type": "code",
   "execution_count": 30,
   "metadata": {
    "scrolled": false
   },
   "outputs": [
    {
     "data": {
      "text/html": [
       "<div>\n",
       "<style scoped>\n",
       "    .dataframe tbody tr th:only-of-type {\n",
       "        vertical-align: middle;\n",
       "    }\n",
       "\n",
       "    .dataframe tbody tr th {\n",
       "        vertical-align: top;\n",
       "    }\n",
       "\n",
       "    .dataframe thead th {\n",
       "        text-align: right;\n",
       "    }\n",
       "</style>\n",
       "<table border=\"1\" class=\"dataframe\">\n",
       "  <thead>\n",
       "    <tr style=\"text-align: right;\">\n",
       "      <th></th>\n",
       "      <th>Unnamed: 0</th>\n",
       "      <th>Fertility</th>\n",
       "      <th>Agriculture</th>\n",
       "      <th>Examination</th>\n",
       "      <th>Education</th>\n",
       "      <th>Catholic</th>\n",
       "      <th>Infant_Mortality</th>\n",
       "    </tr>\n",
       "  </thead>\n",
       "  <tbody>\n",
       "    <tr>\n",
       "      <th>45</th>\n",
       "      <td>Rive Droite</td>\n",
       "      <td>44.7</td>\n",
       "      <td>46.6</td>\n",
       "      <td>16</td>\n",
       "      <td>29</td>\n",
       "      <td>50.43</td>\n",
       "      <td>18.2</td>\n",
       "    </tr>\n",
       "    <tr>\n",
       "      <th>46</th>\n",
       "      <td>Rive Gauche</td>\n",
       "      <td>42.8</td>\n",
       "      <td>27.7</td>\n",
       "      <td>22</td>\n",
       "      <td>29</td>\n",
       "      <td>58.33</td>\n",
       "      <td>19.3</td>\n",
       "    </tr>\n",
       "    <tr>\n",
       "      <th>41</th>\n",
       "      <td>Neuchatel</td>\n",
       "      <td>64.4</td>\n",
       "      <td>17.6</td>\n",
       "      <td>35</td>\n",
       "      <td>32</td>\n",
       "      <td>16.92</td>\n",
       "      <td>23.0</td>\n",
       "    </tr>\n",
       "    <tr>\n",
       "      <th>36</th>\n",
       "      <td>Sierre</td>\n",
       "      <td>92.2</td>\n",
       "      <td>84.6</td>\n",
       "      <td>3</td>\n",
       "      <td>3</td>\n",
       "      <td>99.46</td>\n",
       "      <td>16.3</td>\n",
       "    </tr>\n",
       "    <tr>\n",
       "      <th>5</th>\n",
       "      <td>Porrentruy</td>\n",
       "      <td>76.1</td>\n",
       "      <td>35.3</td>\n",
       "      <td>9</td>\n",
       "      <td>7</td>\n",
       "      <td>90.57</td>\n",
       "      <td>26.6</td>\n",
       "    </tr>\n",
       "  </tbody>\n",
       "</table>\n",
       "</div>"
      ],
      "text/plain": [
       "     Unnamed: 0  Fertility  Agriculture  Examination  Education  Catholic  \\\n",
       "45  Rive Droite       44.7         46.6           16         29     50.43   \n",
       "46  Rive Gauche       42.8         27.7           22         29     58.33   \n",
       "41    Neuchatel       64.4         17.6           35         32     16.92   \n",
       "36       Sierre       92.2         84.6            3          3     99.46   \n",
       "5    Porrentruy       76.1         35.3            9          7     90.57   \n",
       "\n",
       "    Infant_Mortality  \n",
       "45              18.2  \n",
       "46              19.3  \n",
       "41              23.0  \n",
       "36              16.3  \n",
       "5               26.6  "
      ]
     },
     "execution_count": 30,
     "metadata": {},
     "output_type": "execute_result"
    }
   ],
   "source": [
    "C, P = influence.cooks_distance\n",
    "ind= np.argsort(C)[-5:]\n",
    "influential_points = swiss.loc[ind]\n",
    "influential_points"
   ]
  },
  {
   "cell_type": "markdown",
   "metadata": {},
   "source": [
    "use stepwise regression to remove nonsignificant predictors from the model one at a time until all predictors have p value below a certain threshhold. Start with 5 factors in this case(Agriculture, Examination, Education, Catholic, Infant Mortality). We remove infant mortality first since the model output indicates that infant mortality is the least siginificant one. Repeat the process until all remaining predictors are significant.\n",
    "\n"
   ]
  },
  {
   "cell_type": "markdown",
   "metadata": {},
   "source": [
    "***\n",
    "4. For divusa, data fit a model with divorce as the response and the other variables, except year as predictors. Check for serial correlation."
   ]
  },
  {
   "cell_type": "code",
   "execution_count": 33,
   "metadata": {},
   "outputs": [],
   "source": [
    "divusa = pd.read_csv('divusa.csv')\n",
    "X = divusa[[\"unemployed\",\"femlab\",\"marriage\",\"birth\",\"military\"]]\n",
    "y = divusa['divorce']"
   ]
  },
  {
   "cell_type": "code",
   "execution_count": 34,
   "metadata": {
    "scrolled": true
   },
   "outputs": [
    {
     "data": {
      "text/html": [
       "<table class=\"simpletable\">\n",
       "<caption>OLS Regression Results</caption>\n",
       "<tr>\n",
       "  <th>Dep. Variable:</th>         <td>divorce</td>     <th>  R-squared:         </th> <td>   0.921</td>\n",
       "</tr>\n",
       "<tr>\n",
       "  <th>Model:</th>                   <td>OLS</td>       <th>  Adj. R-squared:    </th> <td>   0.915</td>\n",
       "</tr>\n",
       "<tr>\n",
       "  <th>Method:</th>             <td>Least Squares</td>  <th>  F-statistic:       </th> <td>   165.1</td>\n",
       "</tr>\n",
       "<tr>\n",
       "  <th>Date:</th>             <td>Fri, 06 May 2022</td> <th>  Prob (F-statistic):</th> <td>1.18e-37</td>\n",
       "</tr>\n",
       "<tr>\n",
       "  <th>Time:</th>                 <td>09:38:38</td>     <th>  Log-Likelihood:    </th> <td> -144.71</td>\n",
       "</tr>\n",
       "<tr>\n",
       "  <th>No. Observations:</th>      <td>    77</td>      <th>  AIC:               </th> <td>   301.4</td>\n",
       "</tr>\n",
       "<tr>\n",
       "  <th>Df Residuals:</th>          <td>    71</td>      <th>  BIC:               </th> <td>   315.5</td>\n",
       "</tr>\n",
       "<tr>\n",
       "  <th>Df Model:</th>              <td>     5</td>      <th>                     </th>     <td> </td>   \n",
       "</tr>\n",
       "<tr>\n",
       "  <th>Covariance Type:</th>      <td>nonrobust</td>    <th>                     </th>     <td> </td>   \n",
       "</tr>\n",
       "</table>\n",
       "<table class=\"simpletable\">\n",
       "<tr>\n",
       "       <td></td>         <th>coef</th>     <th>std err</th>      <th>t</th>      <th>P>|t|</th>  <th>[0.025</th>    <th>0.975]</th>  \n",
       "</tr>\n",
       "<tr>\n",
       "  <th>const</th>      <td>    2.4878</td> <td>    3.394</td> <td>    0.733</td> <td> 0.466</td> <td>   -4.279</td> <td>    9.255</td>\n",
       "</tr>\n",
       "<tr>\n",
       "  <th>unemployed</th> <td>   -0.1113</td> <td>    0.056</td> <td>   -1.989</td> <td> 0.051</td> <td>   -0.223</td> <td>    0.000</td>\n",
       "</tr>\n",
       "<tr>\n",
       "  <th>femlab</th>     <td>    0.3836</td> <td>    0.031</td> <td>   12.543</td> <td> 0.000</td> <td>    0.323</td> <td>    0.445</td>\n",
       "</tr>\n",
       "<tr>\n",
       "  <th>marriage</th>   <td>    0.1187</td> <td>    0.024</td> <td>    4.861</td> <td> 0.000</td> <td>    0.070</td> <td>    0.167</td>\n",
       "</tr>\n",
       "<tr>\n",
       "  <th>birth</th>      <td>   -0.1300</td> <td>    0.016</td> <td>   -8.333</td> <td> 0.000</td> <td>   -0.161</td> <td>   -0.099</td>\n",
       "</tr>\n",
       "<tr>\n",
       "  <th>military</th>   <td>   -0.0267</td> <td>    0.014</td> <td>   -1.876</td> <td> 0.065</td> <td>   -0.055</td> <td>    0.002</td>\n",
       "</tr>\n",
       "</table>\n",
       "<table class=\"simpletable\">\n",
       "<tr>\n",
       "  <th>Omnibus:</th>       <td> 0.098</td> <th>  Durbin-Watson:     </th> <td>   0.300</td>\n",
       "</tr>\n",
       "<tr>\n",
       "  <th>Prob(Omnibus):</th> <td> 0.952</td> <th>  Jarque-Bera (JB):  </th> <td>   0.009</td>\n",
       "</tr>\n",
       "<tr>\n",
       "  <th>Skew:</th>          <td> 0.022</td> <th>  Prob(JB):          </th> <td>   0.996</td>\n",
       "</tr>\n",
       "<tr>\n",
       "  <th>Kurtosis:</th>      <td> 2.972</td> <th>  Cond. No.          </th> <td>2.23e+03</td>\n",
       "</tr>\n",
       "</table><br/><br/>Notes:<br/>[1] Standard Errors assume that the covariance matrix of the errors is correctly specified.<br/>[2] The condition number is large, 2.23e+03. This might indicate that there are<br/>strong multicollinearity or other numerical problems."
      ],
      "text/plain": [
       "<class 'statsmodels.iolib.summary.Summary'>\n",
       "\"\"\"\n",
       "                            OLS Regression Results                            \n",
       "==============================================================================\n",
       "Dep. Variable:                divorce   R-squared:                       0.921\n",
       "Model:                            OLS   Adj. R-squared:                  0.915\n",
       "Method:                 Least Squares   F-statistic:                     165.1\n",
       "Date:                Fri, 06 May 2022   Prob (F-statistic):           1.18e-37\n",
       "Time:                        09:38:38   Log-Likelihood:                -144.71\n",
       "No. Observations:                  77   AIC:                             301.4\n",
       "Df Residuals:                      71   BIC:                             315.5\n",
       "Df Model:                           5                                         \n",
       "Covariance Type:            nonrobust                                         \n",
       "==============================================================================\n",
       "                 coef    std err          t      P>|t|      [0.025      0.975]\n",
       "------------------------------------------------------------------------------\n",
       "const          2.4878      3.394      0.733      0.466      -4.279       9.255\n",
       "unemployed    -0.1113      0.056     -1.989      0.051      -0.223       0.000\n",
       "femlab         0.3836      0.031     12.543      0.000       0.323       0.445\n",
       "marriage       0.1187      0.024      4.861      0.000       0.070       0.167\n",
       "birth         -0.1300      0.016     -8.333      0.000      -0.161      -0.099\n",
       "military      -0.0267      0.014     -1.876      0.065      -0.055       0.002\n",
       "==============================================================================\n",
       "Omnibus:                        0.098   Durbin-Watson:                   0.300\n",
       "Prob(Omnibus):                  0.952   Jarque-Bera (JB):                0.009\n",
       "Skew:                           0.022   Prob(JB):                        0.996\n",
       "Kurtosis:                       2.972   Cond. No.                     2.23e+03\n",
       "==============================================================================\n",
       "\n",
       "Notes:\n",
       "[1] Standard Errors assume that the covariance matrix of the errors is correctly specified.\n",
       "[2] The condition number is large, 2.23e+03. This might indicate that there are\n",
       "strong multicollinearity or other numerical problems.\n",
       "\"\"\""
      ]
     },
     "execution_count": 34,
     "metadata": {},
     "output_type": "execute_result"
    }
   ],
   "source": [
    "X_c = sm.add_constant(X)\n",
    "model = sm.OLS(y, X_c).fit()\n",
    "y_pred = model.predict(X_c)\n",
    "model.summary()"
   ]
  },
  {
   "cell_type": "markdown",
   "metadata": {},
   "source": [
    "Check for serial correlation"
   ]
  },
  {
   "cell_type": "code",
   "execution_count": 35,
   "metadata": {},
   "outputs": [
    {
     "data": {
      "text/plain": [
       "0.29988344695130026"
      ]
     },
     "execution_count": 35,
     "metadata": {},
     "output_type": "execute_result"
    }
   ],
   "source": [
    "from statsmodels.stats.stattools import durbin_watson\n",
    "durbin_watson(model.resid)"
   ]
  },
  {
   "cell_type": "markdown",
   "metadata": {},
   "source": [
    "Since the dw statistics = 0.29988 is below 2, this means there is positive autocorrelation."
   ]
  },
  {
   "cell_type": "markdown",
   "metadata": {},
   "source": [
    "***\n",
    "5. To show how two statistics that summarize how well a regression model fits, the F-ratio, and R2, the coefficient of determination relate:\n",
    "a. Write down $R^2$ in terms of both Error SSE and Regression SSR."
   ]
  },
  {
   "cell_type": "markdown",
   "metadata": {},
   "source": [
    "$$R^2 = \\frac{SSR}{SST}=\\frac{SSR}{SSR + SSE}$$"
   ]
  },
  {
   "cell_type": "markdown",
   "metadata": {},
   "source": [
    "b. Write down F-ratio in terms of Error SS, Regression SS, k, and n.\n"
   ]
  },
  {
   "cell_type": "markdown",
   "metadata": {},
   "source": [
    "$$F-ratio = \\frac{MS_{regression}}{MS_{within}}= \\frac{\\frac{SS_{regression}}{k}}{\\frac{SS_{error}}{n-k-1}} = (\\frac{n-k-1}{k})\\frac{SSR}{SSE}$$"
   ]
  },
  {
   "cell_type": "markdown",
   "metadata": {},
   "source": [
    "c. Establish the algebraic relationship"
   ]
  },
  {
   "cell_type": "markdown",
   "metadata": {},
   "source": [
    "$$ 1-R^2 = \\frac{SSE}{SSR+SSE}$$\n",
    "\n",
    "$$\\frac{R^2}{1-R^2}\\frac{n-(k+1)}{k}= (\\frac{n-k-1}{k})\\frac{\\frac{SSR}{SSR+SSE}}{\\frac{SSE}{SSR+SSE}}= (\\frac{n-k-1}{k})\\frac{SSR}{SSE}=F-ratio$$"
   ]
  },
  {
   "cell_type": "markdown",
   "metadata": {},
   "source": [
    "d. Suppose that n = 40, k = 5, and R2 = 0.20. Calculate the FRatio. Perform the usual test of model adequacy to determine whether the five explanatory variables jointly and significantly affect the response variable.\n"
   ]
  },
  {
   "cell_type": "code",
   "execution_count": 41,
   "metadata": {},
   "outputs": [
    {
     "name": "stdout",
     "output_type": "stream",
     "text": [
      "F_ratio:  1.7\n"
     ]
    }
   ],
   "source": [
    "n = 40\n",
    "k = 5\n",
    "R2 = 0.2\n",
    "dfn = k-1\n",
    "dfd = n-k\n",
    "F_ratio = (R2/(1-R2))*((n-k-1)/k)\n",
    "print('F_ratio: ', F_ratio)"
   ]
  },
  {
   "cell_type": "code",
   "execution_count": 42,
   "metadata": {},
   "outputs": [
    {
     "name": "stdout",
     "output_type": "stream",
     "text": [
      "critical value:  2.641465186128566\n",
      "p-value:  0.17207414000385024\n"
     ]
    }
   ],
   "source": [
    "\n",
    "crit = stats.f.ppf(q=1-0.05, dfn= dfn, dfd= dfd)\n",
    "p_value = 1- stats.f.cdf(F_ratio, dfn=dfn, dfd=dfd)\n",
    "print('critical value: ', crit)\n",
    "print('p-value: ', p_value)"
   ]
  },
  {
   "cell_type": "markdown",
   "metadata": {},
   "source": [
    "the F-ratio= 1.7 smaller than the critical value 2.64, and the p-value > 0.05\n",
    "we fail to reject the null hypothesis that the five explanatory variables jointly does not significantly affect the response variable. \n",
    "\n"
   ]
  },
  {
   "cell_type": "markdown",
   "metadata": {},
   "source": [
    "e. Suppose that n = 400 (not 40), k = 5, and R2 = 0.20. Calculate the FRatio.\n",
    "Perform the usual test of model adequacy to determine whether the five explanatory\n",
    "variables jointly and significantly affect the response variable.\n"
   ]
  },
  {
   "cell_type": "code",
   "execution_count": 44,
   "metadata": {},
   "outputs": [
    {
     "name": "stdout",
     "output_type": "stream",
     "text": [
      "F_ratio:  19.7\n",
      "critical value:  2.3945328958915275\n",
      "p-value:  8.43769498715119e-15\n"
     ]
    }
   ],
   "source": [
    "n = 400\n",
    "k = 5\n",
    "R2 = 0.2\n",
    "dfn = k-1\n",
    "dfd = n-k\n",
    "F_ratio = (R2/(1-R2))*((n-k-1)/k)\n",
    "print('F_ratio: ', F_ratio)\n",
    "crit = stats.f.ppf(q=1-0.05, dfn= dfn, dfd= dfd)\n",
    "p_value = 1- stats.f.cdf(F_ratio, dfn=dfn, dfd=dfd)\n",
    "print('critical value: ', crit)\n",
    "print('p-value: ', p_value)"
   ]
  },
  {
   "cell_type": "markdown",
   "metadata": {},
   "source": [
    "The F-ratio = 19.7 > the critical value 2.39, and the p-value < 0.05. We can reject the null hypothesis that the five explanatory variables jointly does not significantly affect the response variable and conclude that the five explanatory variables jointly do significantly affect the response variable. "
   ]
  },
  {
   "cell_type": "code",
   "execution_count": null,
   "metadata": {},
   "outputs": [],
   "source": []
  }
 ],
 "metadata": {
  "kernelspec": {
   "display_name": "Python 3",
   "language": "python",
   "name": "python3"
  },
  "language_info": {
   "codemirror_mode": {
    "name": "ipython",
    "version": 3
   },
   "file_extension": ".py",
   "mimetype": "text/x-python",
   "name": "python",
   "nbconvert_exporter": "python",
   "pygments_lexer": "ipython3",
   "version": "3.8.5"
  }
 },
 "nbformat": 4,
 "nbformat_minor": 4
}
